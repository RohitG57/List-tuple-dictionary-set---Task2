{
 "cells": [
  {
   "cell_type": "code",
   "execution_count": 1,
   "id": "bf6fc451",
   "metadata": {},
   "outputs": [],
   "source": [
    "# Questions \n",
    "\n",
    "# l = [3,4,5,6,7 , [23,456,67,8,78,78] , [345,56,87,8,98,9] , (234,6657,6) , {\"key1\" :\"sudh\" , 234:[23,45,656]}]\n",
    "# 1. Try to reverse a list \n",
    "# 2. try to access 234 out of this list \n",
    "# 3. try to access 456 \n",
    "# 4. Try to extract only a list collection form list l \n",
    "# 5. Try to extract \"sudh\"\n",
    "# 6. Try to list all the key in dict element avaible in list \n",
    "# 7. Try to extract all the value element form dict available in list "
   ]
  },
  {
   "cell_type": "code",
   "execution_count": 2,
   "id": "974edd89",
   "metadata": {},
   "outputs": [],
   "source": [
    "l = [3,4,5,6,7 , [23,456,67,8,78,78] , [345,56,87,8,98,9] , (234,6657,6) , {\"key1\" :\"sudh\" , 234:[23,45,656]}]"
   ]
  },
  {
   "cell_type": "code",
   "execution_count": 3,
   "id": "1cc375e0",
   "metadata": {},
   "outputs": [],
   "source": [
    "# 1. Try to reverse a list "
   ]
  },
  {
   "cell_type": "code",
   "execution_count": 4,
   "id": "dc410464",
   "metadata": {},
   "outputs": [
    {
     "data": {
      "text/plain": [
       "[{'key1': 'sudh', 234: [23, 45, 656]},\n",
       " (234, 6657, 6),\n",
       " [345, 56, 87, 8, 98, 9],\n",
       " [23, 456, 67, 8, 78, 78],\n",
       " 7,\n",
       " 6,\n",
       " 5,\n",
       " 4,\n",
       " 3]"
      ]
     },
     "execution_count": 4,
     "metadata": {},
     "output_type": "execute_result"
    }
   ],
   "source": [
    "l[::-1]"
   ]
  },
  {
   "cell_type": "code",
   "execution_count": 5,
   "id": "fc32a967",
   "metadata": {},
   "outputs": [],
   "source": [
    "# 2. try to access 234 out of this list"
   ]
  },
  {
   "cell_type": "code",
   "execution_count": 6,
   "id": "e32db253",
   "metadata": {},
   "outputs": [
    {
     "data": {
      "text/plain": [
       "234"
      ]
     },
     "execution_count": 6,
     "metadata": {},
     "output_type": "execute_result"
    }
   ],
   "source": [
    "l[7][0]"
   ]
  },
  {
   "cell_type": "code",
   "execution_count": 7,
   "id": "1898a2e8",
   "metadata": {},
   "outputs": [],
   "source": [
    "# 3. try to access 456 "
   ]
  },
  {
   "cell_type": "code",
   "execution_count": 8,
   "id": "d5187640",
   "metadata": {},
   "outputs": [
    {
     "data": {
      "text/plain": [
       "456"
      ]
     },
     "execution_count": 8,
     "metadata": {},
     "output_type": "execute_result"
    }
   ],
   "source": [
    "l[5][1]"
   ]
  },
  {
   "cell_type": "code",
   "execution_count": 9,
   "id": "b50eac5f",
   "metadata": {},
   "outputs": [],
   "source": [
    "# 4. Try to extract only a list collection form list l "
   ]
  },
  {
   "cell_type": "code",
   "execution_count": 10,
   "id": "9ce2366e",
   "metadata": {},
   "outputs": [
    {
     "data": {
      "text/plain": [
       "[3,\n",
       " 4,\n",
       " 5,\n",
       " 6,\n",
       " 7,\n",
       " [23, 456, 67, 8, 78, 78],\n",
       " [345, 56, 87, 8, 98, 9],\n",
       " (234, 6657, 6),\n",
       " {'key1': 'sudh', 234: [23, 45, 656]}]"
      ]
     },
     "execution_count": 10,
     "metadata": {},
     "output_type": "execute_result"
    }
   ],
   "source": [
    "l"
   ]
  },
  {
   "cell_type": "code",
   "execution_count": 11,
   "id": "5c7a5d7e",
   "metadata": {},
   "outputs": [
    {
     "data": {
      "text/plain": [
       "([23, 456, 67, 8, 78, 78], [345, 56, 87, 8, 98, 9], [23, 45, 656])"
      ]
     },
     "execution_count": 11,
     "metadata": {},
     "output_type": "execute_result"
    }
   ],
   "source": [
    "l[5],l[6],l[8][234]"
   ]
  },
  {
   "cell_type": "code",
   "execution_count": 12,
   "id": "0b617c0d",
   "metadata": {},
   "outputs": [],
   "source": [
    "# 5. Try to extract \"sudh\""
   ]
  },
  {
   "cell_type": "code",
   "execution_count": 13,
   "id": "02d03218",
   "metadata": {},
   "outputs": [
    {
     "data": {
      "text/plain": [
       "'sudh'"
      ]
     },
     "execution_count": 13,
     "metadata": {},
     "output_type": "execute_result"
    }
   ],
   "source": [
    "l[8]['key1']"
   ]
  },
  {
   "cell_type": "code",
   "execution_count": 14,
   "id": "c42adf9e",
   "metadata": {},
   "outputs": [],
   "source": [
    "# 6. Try to list all the key in dict element avaible in list "
   ]
  },
  {
   "cell_type": "code",
   "execution_count": 15,
   "id": "54ac9402",
   "metadata": {},
   "outputs": [
    {
     "data": {
      "text/plain": [
       "dict_keys(['key1', 234])"
      ]
     },
     "execution_count": 15,
     "metadata": {},
     "output_type": "execute_result"
    }
   ],
   "source": [
    "l[8].keys()"
   ]
  },
  {
   "cell_type": "code",
   "execution_count": 16,
   "id": "ad645eb2",
   "metadata": {},
   "outputs": [],
   "source": [
    "# 7. Try to extract all the value element form dict available in list "
   ]
  },
  {
   "cell_type": "code",
   "execution_count": 17,
   "id": "d7b5fdb1",
   "metadata": {},
   "outputs": [
    {
     "data": {
      "text/plain": [
       "dict_values(['sudh', [23, 45, 656]])"
      ]
     },
     "execution_count": 17,
     "metadata": {},
     "output_type": "execute_result"
    }
   ],
   "source": [
    "l[8].values()"
   ]
  }
 ],
 "metadata": {
  "kernelspec": {
   "display_name": "Python 3 (ipykernel)",
   "language": "python",
   "name": "python3"
  },
  "language_info": {
   "codemirror_mode": {
    "name": "ipython",
    "version": 3
   },
   "file_extension": ".py",
   "mimetype": "text/x-python",
   "name": "python",
   "nbconvert_exporter": "python",
   "pygments_lexer": "ipython3",
   "version": "3.9.12"
  }
 },
 "nbformat": 4,
 "nbformat_minor": 5
}
